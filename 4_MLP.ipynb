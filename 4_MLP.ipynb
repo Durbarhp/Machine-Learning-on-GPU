{
  "nbformat": 4,
  "nbformat_minor": 0,
  "metadata": {
    "colab": {
      "provenance": [],
      "gpuType": "T4"
    },
    "kernelspec": {
      "name": "python3",
      "display_name": "Python 3"
    },
    "language_info": {
      "name": "python"
    },
    "accelerator": "GPU"
  },
  "cells": [
    {
      "cell_type": "markdown",
      "source": [
        "**Multilayer perceptron (MLP)**\n",
        "An Artificial Neural Network with interconnected perceptron layers."
      ],
      "metadata": {
        "id": "HcQf9AvjBkia"
      }
    },
    {
      "cell_type": "markdown",
      "source": [
        "Upload the Given data file in Google collab"
      ],
      "metadata": {
        "id": "odQgsGLgCHNC"
      }
    },
    {
      "cell_type": "code",
      "source": [
        "from google.colab import files\n",
        "import pandas as pd\n",
        "\n",
        "# Upload the given CSV file\n",
        "uploaded = files.upload()\n",
        "\n",
        "# Read the CSV file without header\n",
        "import io\n",
        "data = pd.read_csv(io.BytesIO(uploaded['MLoGPU_data1_train.csv']), header=None)\n",
        "\n",
        "# Display basic information about the dataset\n",
        "print(\"Shape of the dataset:\", data.shape)\n",
        "print(data.head())"
      ],
      "metadata": {
        "colab": {
          "base_uri": "https://localhost:8080/",
          "height": 329
        },
        "id": "Unpsor9aCVwy",
        "outputId": "f4a26712-687d-4eec-caaa-38b8c565b231"
      },
      "execution_count": 1,
      "outputs": [
        {
          "output_type": "display_data",
          "data": {
            "text/plain": [
              "<IPython.core.display.HTML object>"
            ],
            "text/html": [
              "\n",
              "     <input type=\"file\" id=\"files-046679ab-96b2-4116-9bc7-741624cdf0d1\" name=\"files[]\" multiple disabled\n",
              "        style=\"border:none\" />\n",
              "     <output id=\"result-046679ab-96b2-4116-9bc7-741624cdf0d1\">\n",
              "      Upload widget is only available when the cell has been executed in the\n",
              "      current browser session. Please rerun this cell to enable.\n",
              "      </output>\n",
              "      <script>// Copyright 2017 Google LLC\n",
              "//\n",
              "// Licensed under the Apache License, Version 2.0 (the \"License\");\n",
              "// you may not use this file except in compliance with the License.\n",
              "// You may obtain a copy of the License at\n",
              "//\n",
              "//      http://www.apache.org/licenses/LICENSE-2.0\n",
              "//\n",
              "// Unless required by applicable law or agreed to in writing, software\n",
              "// distributed under the License is distributed on an \"AS IS\" BASIS,\n",
              "// WITHOUT WARRANTIES OR CONDITIONS OF ANY KIND, either express or implied.\n",
              "// See the License for the specific language governing permissions and\n",
              "// limitations under the License.\n",
              "\n",
              "/**\n",
              " * @fileoverview Helpers for google.colab Python module.\n",
              " */\n",
              "(function(scope) {\n",
              "function span(text, styleAttributes = {}) {\n",
              "  const element = document.createElement('span');\n",
              "  element.textContent = text;\n",
              "  for (const key of Object.keys(styleAttributes)) {\n",
              "    element.style[key] = styleAttributes[key];\n",
              "  }\n",
              "  return element;\n",
              "}\n",
              "\n",
              "// Max number of bytes which will be uploaded at a time.\n",
              "const MAX_PAYLOAD_SIZE = 100 * 1024;\n",
              "\n",
              "function _uploadFiles(inputId, outputId) {\n",
              "  const steps = uploadFilesStep(inputId, outputId);\n",
              "  const outputElement = document.getElementById(outputId);\n",
              "  // Cache steps on the outputElement to make it available for the next call\n",
              "  // to uploadFilesContinue from Python.\n",
              "  outputElement.steps = steps;\n",
              "\n",
              "  return _uploadFilesContinue(outputId);\n",
              "}\n",
              "\n",
              "// This is roughly an async generator (not supported in the browser yet),\n",
              "// where there are multiple asynchronous steps and the Python side is going\n",
              "// to poll for completion of each step.\n",
              "// This uses a Promise to block the python side on completion of each step,\n",
              "// then passes the result of the previous step as the input to the next step.\n",
              "function _uploadFilesContinue(outputId) {\n",
              "  const outputElement = document.getElementById(outputId);\n",
              "  const steps = outputElement.steps;\n",
              "\n",
              "  const next = steps.next(outputElement.lastPromiseValue);\n",
              "  return Promise.resolve(next.value.promise).then((value) => {\n",
              "    // Cache the last promise value to make it available to the next\n",
              "    // step of the generator.\n",
              "    outputElement.lastPromiseValue = value;\n",
              "    return next.value.response;\n",
              "  });\n",
              "}\n",
              "\n",
              "/**\n",
              " * Generator function which is called between each async step of the upload\n",
              " * process.\n",
              " * @param {string} inputId Element ID of the input file picker element.\n",
              " * @param {string} outputId Element ID of the output display.\n",
              " * @return {!Iterable<!Object>} Iterable of next steps.\n",
              " */\n",
              "function* uploadFilesStep(inputId, outputId) {\n",
              "  const inputElement = document.getElementById(inputId);\n",
              "  inputElement.disabled = false;\n",
              "\n",
              "  const outputElement = document.getElementById(outputId);\n",
              "  outputElement.innerHTML = '';\n",
              "\n",
              "  const pickedPromise = new Promise((resolve) => {\n",
              "    inputElement.addEventListener('change', (e) => {\n",
              "      resolve(e.target.files);\n",
              "    });\n",
              "  });\n",
              "\n",
              "  const cancel = document.createElement('button');\n",
              "  inputElement.parentElement.appendChild(cancel);\n",
              "  cancel.textContent = 'Cancel upload';\n",
              "  const cancelPromise = new Promise((resolve) => {\n",
              "    cancel.onclick = () => {\n",
              "      resolve(null);\n",
              "    };\n",
              "  });\n",
              "\n",
              "  // Wait for the user to pick the files.\n",
              "  const files = yield {\n",
              "    promise: Promise.race([pickedPromise, cancelPromise]),\n",
              "    response: {\n",
              "      action: 'starting',\n",
              "    }\n",
              "  };\n",
              "\n",
              "  cancel.remove();\n",
              "\n",
              "  // Disable the input element since further picks are not allowed.\n",
              "  inputElement.disabled = true;\n",
              "\n",
              "  if (!files) {\n",
              "    return {\n",
              "      response: {\n",
              "        action: 'complete',\n",
              "      }\n",
              "    };\n",
              "  }\n",
              "\n",
              "  for (const file of files) {\n",
              "    const li = document.createElement('li');\n",
              "    li.append(span(file.name, {fontWeight: 'bold'}));\n",
              "    li.append(span(\n",
              "        `(${file.type || 'n/a'}) - ${file.size} bytes, ` +\n",
              "        `last modified: ${\n",
              "            file.lastModifiedDate ? file.lastModifiedDate.toLocaleDateString() :\n",
              "                                    'n/a'} - `));\n",
              "    const percent = span('0% done');\n",
              "    li.appendChild(percent);\n",
              "\n",
              "    outputElement.appendChild(li);\n",
              "\n",
              "    const fileDataPromise = new Promise((resolve) => {\n",
              "      const reader = new FileReader();\n",
              "      reader.onload = (e) => {\n",
              "        resolve(e.target.result);\n",
              "      };\n",
              "      reader.readAsArrayBuffer(file);\n",
              "    });\n",
              "    // Wait for the data to be ready.\n",
              "    let fileData = yield {\n",
              "      promise: fileDataPromise,\n",
              "      response: {\n",
              "        action: 'continue',\n",
              "      }\n",
              "    };\n",
              "\n",
              "    // Use a chunked sending to avoid message size limits. See b/62115660.\n",
              "    let position = 0;\n",
              "    do {\n",
              "      const length = Math.min(fileData.byteLength - position, MAX_PAYLOAD_SIZE);\n",
              "      const chunk = new Uint8Array(fileData, position, length);\n",
              "      position += length;\n",
              "\n",
              "      const base64 = btoa(String.fromCharCode.apply(null, chunk));\n",
              "      yield {\n",
              "        response: {\n",
              "          action: 'append',\n",
              "          file: file.name,\n",
              "          data: base64,\n",
              "        },\n",
              "      };\n",
              "\n",
              "      let percentDone = fileData.byteLength === 0 ?\n",
              "          100 :\n",
              "          Math.round((position / fileData.byteLength) * 100);\n",
              "      percent.textContent = `${percentDone}% done`;\n",
              "\n",
              "    } while (position < fileData.byteLength);\n",
              "  }\n",
              "\n",
              "  // All done.\n",
              "  yield {\n",
              "    response: {\n",
              "      action: 'complete',\n",
              "    }\n",
              "  };\n",
              "}\n",
              "\n",
              "scope.google = scope.google || {};\n",
              "scope.google.colab = scope.google.colab || {};\n",
              "scope.google.colab._files = {\n",
              "  _uploadFiles,\n",
              "  _uploadFilesContinue,\n",
              "};\n",
              "})(self);\n",
              "</script> "
            ]
          },
          "metadata": {}
        },
        {
          "output_type": "stream",
          "name": "stdout",
          "text": [
            "Saving MLoGPU_data1_train.csv to MLoGPU_data1_train.csv\n",
            "Shape of the dataset: (4000, 11)\n",
            "         0         1         2         3         4         5         6   \\\n",
            "0  0.233449  0.166667  0.381818  0.424594  0.164110  0.354839  0.250000   \n",
            "1  0.160279  0.196078  0.263636  0.262181  0.176380  0.161290  0.346154   \n",
            "2  0.083624  0.156863  0.300000  0.396752  0.191718  0.177419  0.355769   \n",
            "3  0.097561  0.107843  0.390909  0.201856  0.019939  0.451613  0.288462   \n",
            "4  0.073171  0.411765  0.445455  0.271462  0.007669  0.467742  0.413462   \n",
            "\n",
            "         7         8         9    10  \n",
            "0  0.325581  0.166184  0.192771  6.0  \n",
            "1  0.255814  0.196453  0.301205  5.0  \n",
            "2  0.360465  0.226141  0.186747  6.0  \n",
            "3  0.372093  0.088490  0.216867  7.0  \n",
            "4  0.232558  0.128976  0.283133  5.0  \n"
          ]
        }
      ]
    },
    {
      "cell_type": "markdown",
      "source": [
        "Import Important Libraries"
      ],
      "metadata": {
        "id": "zzJrG67bCvdl"
      }
    },
    {
      "cell_type": "code",
      "source": [
        "import pandas as pd\n",
        "import torch\n",
        "import torch.nn as nn\n",
        "import torch.optim as optim\n",
        "from torch.utils.data import DataLoader, TensorDataset\n",
        "import time\n",
        "import matplotlib.pyplot as plt"
      ],
      "metadata": {
        "id": "xCUfhDPACySb"
      },
      "execution_count": 2,
      "outputs": []
    },
    {
      "cell_type": "markdown",
      "source": [
        "*Load the Dataset\n",
        "*Separate the features, labels\n",
        "*Normalize features\n",
        "*Split the dataset into training and testing dataset\n",
        "*Convert data to PyTorch tensors\n",
        "*Define Model Parameters\n",
        "**Two hidden layers are taken**\n",
        "\n"
      ],
      "metadata": {
        "id": "19ST6BCnC2l0"
      }
    },
    {
      "cell_type": "code",
      "source": [
        "# Load the dataset\n",
        "data = pd.read_csv(\"MLoGPU_data1_train.csv\", header=None)\n",
        "\n",
        "# Separate features and labels\n",
        "X = data.iloc[:, :-1].values\n",
        "y = data.iloc[:, -1].values\n",
        "\n",
        "# Normalize the features\n",
        "from sklearn.preprocessing import MinMaxScaler\n",
        "scaler = MinMaxScaler()\n",
        "X_normalized = scaler.fit_transform(X)\n",
        "\n",
        "# Split the dataset into training and testing sets\n",
        "from sklearn.model_selection import train_test_split\n",
        "X_train, X_test, y_train, y_test = train_test_split(X_normalized, y, test_size=0.2, random_state=42)\n",
        "\n",
        "# Convert data to PyTorch tensors\n",
        "X_train_tensor = torch.tensor(X_train, dtype=torch.float32)\n",
        "y_train_tensor = torch.tensor(y_train, dtype=torch.long)\n",
        "X_test_tensor = torch.tensor(X_test, dtype=torch.float32)\n",
        "y_test_tensor = torch.tensor(y_test, dtype=torch.long)\n",
        "\n",
        "# Define model parameters\n",
        "batch_size = 64  # Batch size defined\n",
        "input_size = 10  # number of input features\n",
        "hidden_size1 = 64  # Number of units in the first hidden layer (adjusted for experiments)\n",
        "hidden_size2 = 128  # Number of units in the second hidden layer (adjusted for experiments)\n",
        "num_classes = 10  # number of output classes\n",
        "learning_rate = 0.001  # learning rate for optimization\n",
        "num_epochs = 50  # the number of training epochs\n"
      ],
      "metadata": {
        "id": "QC8E8HcIDlcU"
      },
      "execution_count": 25,
      "outputs": []
    },
    {
      "cell_type": "markdown",
      "source": [
        "Define the model for MLP\n",
        "\n",
        "\n",
        "*   Two hidden Layers Taken\n",
        "*   PyTorch Tensors are X_train_tensor and y_train_tensor\n",
        "\n"
      ],
      "metadata": {
        "id": "pBa-wK4cEjVP"
      }
    },
    {
      "cell_type": "code",
      "source": [
        "class MLP(nn.Module):\n",
        "    def __init__(self, input_size, hidden_size1, hidden_size2, num_classes):\n",
        "        super(MLP, self).__init__()\n",
        "        self.fc1 = nn.Linear(input_size, hidden_size1)\n",
        "        self.relu1 = nn.ReLU()\n",
        "        self.fc2 = nn.Linear(hidden_size1, hidden_size2)\n",
        "        self.relu2 = nn.ReLU()\n",
        "        self.fc3 = nn.Linear(hidden_size2, num_classes)\n",
        "\n",
        "    def forward(self, x):\n",
        "        out = self.fc1(x)\n",
        "        out = self.relu1(out)\n",
        "        out = self.fc2(out)\n",
        "        out = self.relu2(out)\n",
        "        out = self.fc3(out)\n",
        "        return out\n",
        "\n",
        "# Initialize model, criterion, and optimizer for CPU\n",
        "model_cpu = MLP(input_size, hidden_size1, hidden_size2, num_classes)\n",
        "criterion = nn.CrossEntropyLoss()\n",
        "optimizer = optim.Adam(model_cpu.parameters(), lr=learning_rate)\n",
        "\n",
        "# store the loss values in a list for plotting\n",
        "train_losses_cpu = []\n",
        "\n",
        "# X_train_tensor and y_train_tensor are PyTorch tensors\n",
        "train_dataset = TensorDataset(X_train_tensor, y_train_tensor)\n",
        "train_loader = DataLoader(train_dataset, batch_size=batch_size, shuffle=True)"
      ],
      "metadata": {
        "id": "a4MFEbi5Emhp"
      },
      "execution_count": 26,
      "outputs": []
    },
    {
      "cell_type": "markdown",
      "source": [
        "######################################\n",
        "####### Training for CPU and Evaluation ########\n",
        "######################################"
      ],
      "metadata": {
        "id": "ukDHgYDPE0Iu"
      }
    },
    {
      "cell_type": "code",
      "source": [
        "# Training loop for CPU\n",
        "epoch_time_cpu = []\n",
        "start_time_cpu = time.time()\n",
        "for epoch in range(num_epochs):\n",
        "    model_cpu.train()\n",
        "    running_loss = 0.0\n",
        "    epoch_start_time = time.time()  # Start time for the current epoch\n",
        "    for inputs, labels in train_loader:\n",
        "        optimizer.zero_grad()\n",
        "        outputs = model_cpu(inputs)\n",
        "        loss = criterion(outputs, labels)\n",
        "        loss.backward()\n",
        "        optimizer.step()\n",
        "        running_loss += loss.item()\n",
        "\n",
        "    # Calculate average loss for the epoch\n",
        "    avg_loss = running_loss / len(train_loader)\n",
        "    epoch_end_time = time.time()  # End time for the current epoch\n",
        "    epoch_time_cpu = epoch_end_time - epoch_start_time  # Elapsed execution time for the epoch\n",
        "    train_losses_cpu.append(avg_loss)\n",
        "    print(f\"CPU - Epoch [{epoch+1}/{num_epochs}], Loss: {avg_loss:.4f}, Epoch Time: {epoch_time_cpu:.2f} seconds\")\n",
        "\n",
        "end_time_cpu = time.time()\n",
        "execution_time_cpu = end_time_cpu - start_time_cpu\n",
        "print(f\"Total execution time on CPU training: {execution_time_cpu:.2f} seconds\")\n",
        "\n",
        "\n",
        "# Plot the loss function\n",
        "plt.figure()\n",
        "plt.plot(range(1, num_epochs+1), train_losses_cpu, label='Training Loss (CPU)')\n",
        "plt.xlabel('Epochs')\n",
        "plt.ylabel('Loss')\n",
        "plt.title('Training Loss')\n",
        "plt.legend()\n",
        "plt.show()\n",
        "\n",
        "# Assuming X_test_tensor and y_test_tensor are PyTorch tensors\n",
        "test_dataset = TensorDataset(X_test_tensor, y_test_tensor)\n",
        "test_loader = DataLoader(test_dataset, batch_size=batch_size, shuffle=False)"
      ],
      "metadata": {
        "colab": {
          "base_uri": "https://localhost:8080/",
          "height": 1000
        },
        "id": "4BF9DXK9E3NT",
        "outputId": "0c92cd69-4163-49f7-b0a7-d33639d9d408"
      },
      "execution_count": 27,
      "outputs": [
        {
          "output_type": "stream",
          "name": "stdout",
          "text": [
            "CPU - Epoch [1/50], Loss: 1.7338, Epoch Time: 0.10 seconds\n",
            "CPU - Epoch [2/50], Loss: 1.2919, Epoch Time: 0.10 seconds\n",
            "CPU - Epoch [3/50], Loss: 1.2153, Epoch Time: 0.09 seconds\n",
            "CPU - Epoch [4/50], Loss: 1.1728, Epoch Time: 0.10 seconds\n",
            "CPU - Epoch [5/50], Loss: 1.1536, Epoch Time: 0.10 seconds\n",
            "CPU - Epoch [6/50], Loss: 1.1415, Epoch Time: 0.09 seconds\n",
            "CPU - Epoch [7/50], Loss: 1.1331, Epoch Time: 0.09 seconds\n",
            "CPU - Epoch [8/50], Loss: 1.1289, Epoch Time: 0.10 seconds\n",
            "CPU - Epoch [9/50], Loss: 1.1238, Epoch Time: 0.11 seconds\n",
            "CPU - Epoch [10/50], Loss: 1.1199, Epoch Time: 0.09 seconds\n",
            "CPU - Epoch [11/50], Loss: 1.1171, Epoch Time: 0.09 seconds\n",
            "CPU - Epoch [12/50], Loss: 1.1129, Epoch Time: 0.09 seconds\n",
            "CPU - Epoch [13/50], Loss: 1.1093, Epoch Time: 0.09 seconds\n",
            "CPU - Epoch [14/50], Loss: 1.1113, Epoch Time: 0.10 seconds\n",
            "CPU - Epoch [15/50], Loss: 1.1083, Epoch Time: 0.11 seconds\n",
            "CPU - Epoch [16/50], Loss: 1.1033, Epoch Time: 0.10 seconds\n",
            "CPU - Epoch [17/50], Loss: 1.1028, Epoch Time: 0.10 seconds\n",
            "CPU - Epoch [18/50], Loss: 1.1009, Epoch Time: 0.10 seconds\n",
            "CPU - Epoch [19/50], Loss: 1.0985, Epoch Time: 0.11 seconds\n",
            "CPU - Epoch [20/50], Loss: 1.1012, Epoch Time: 0.10 seconds\n",
            "CPU - Epoch [21/50], Loss: 1.1008, Epoch Time: 0.09 seconds\n",
            "CPU - Epoch [22/50], Loss: 1.1067, Epoch Time: 0.11 seconds\n",
            "CPU - Epoch [23/50], Loss: 1.1001, Epoch Time: 0.11 seconds\n",
            "CPU - Epoch [24/50], Loss: 1.0974, Epoch Time: 0.11 seconds\n",
            "CPU - Epoch [25/50], Loss: 1.0957, Epoch Time: 0.11 seconds\n",
            "CPU - Epoch [26/50], Loss: 1.0955, Epoch Time: 0.10 seconds\n",
            "CPU - Epoch [27/50], Loss: 1.0912, Epoch Time: 0.10 seconds\n",
            "CPU - Epoch [28/50], Loss: 1.0924, Epoch Time: 0.09 seconds\n",
            "CPU - Epoch [29/50], Loss: 1.0917, Epoch Time: 0.11 seconds\n",
            "CPU - Epoch [30/50], Loss: 1.0884, Epoch Time: 0.10 seconds\n",
            "CPU - Epoch [31/50], Loss: 1.0930, Epoch Time: 0.10 seconds\n",
            "CPU - Epoch [32/50], Loss: 1.0897, Epoch Time: 0.11 seconds\n",
            "CPU - Epoch [33/50], Loss: 1.0868, Epoch Time: 0.10 seconds\n",
            "CPU - Epoch [34/50], Loss: 1.0845, Epoch Time: 0.10 seconds\n",
            "CPU - Epoch [35/50], Loss: 1.0853, Epoch Time: 0.10 seconds\n",
            "CPU - Epoch [36/50], Loss: 1.0856, Epoch Time: 0.10 seconds\n",
            "CPU - Epoch [37/50], Loss: 1.0811, Epoch Time: 0.09 seconds\n",
            "CPU - Epoch [38/50], Loss: 1.0812, Epoch Time: 0.10 seconds\n",
            "CPU - Epoch [39/50], Loss: 1.0837, Epoch Time: 0.10 seconds\n",
            "CPU - Epoch [40/50], Loss: 1.0794, Epoch Time: 0.10 seconds\n",
            "CPU - Epoch [41/50], Loss: 1.0775, Epoch Time: 0.10 seconds\n",
            "CPU - Epoch [42/50], Loss: 1.0752, Epoch Time: 0.10 seconds\n",
            "CPU - Epoch [43/50], Loss: 1.0753, Epoch Time: 0.09 seconds\n",
            "CPU - Epoch [44/50], Loss: 1.0715, Epoch Time: 0.10 seconds\n",
            "CPU - Epoch [45/50], Loss: 1.0701, Epoch Time: 0.09 seconds\n",
            "CPU - Epoch [46/50], Loss: 1.0692, Epoch Time: 0.10 seconds\n",
            "CPU - Epoch [47/50], Loss: 1.0674, Epoch Time: 0.10 seconds\n",
            "CPU - Epoch [48/50], Loss: 1.0667, Epoch Time: 0.09 seconds\n",
            "CPU - Epoch [49/50], Loss: 1.0671, Epoch Time: 0.09 seconds\n",
            "CPU - Epoch [50/50], Loss: 1.0616, Epoch Time: 0.10 seconds\n",
            "Total execution time on CPU training: 4.95 seconds\n"
          ]
        },
        {
          "output_type": "display_data",
          "data": {
            "text/plain": [
              "<Figure size 640x480 with 1 Axes>"
            ],
            "image/png": "[encoded data removed]"
          },
          "metadata": {}
        }
      ]
    },
    {
      "cell_type": "markdown",
      "source": [
        "Evaluation and Accuracy in CPU and Accuracy on Test Dataset"
      ],
      "metadata": {
        "id": "3nD-v6xFMhBq"
      }
    },
    {
      "cell_type": "code",
      "source": [
        "# Evaluation on CPU\n",
        "\n",
        "time_start_cpu_test = time.time()\n",
        "correct = 0\n",
        "total = 0\n",
        "with torch.no_grad():\n",
        "    model_cpu.eval()\n",
        "    for inputs, labels in test_loader:\n",
        "        outputs = model_cpu(inputs)\n",
        "        _, predicted = torch.max(outputs, 1)\n",
        "        total += labels.size(0)\n",
        "        correct += (predicted == labels).sum().item()\n",
        "\n",
        "accuracy = correct / total\n",
        "time_end_cpu_test = time.time()  # End time for testing on CPU\n",
        "execution_time_cpu_test = time_end_cpu_test - time_start_cpu_test\n",
        "print(f\"Execution time on test set(CPU): {execution_time_cpu_test}\")\n",
        "print(f\"Accuracy on test set (CPU): {accuracy:.4f}\")"
      ],
      "metadata": {
        "colab": {
          "base_uri": "https://localhost:8080/"
        },
        "id": "9-Oudbq1Mjst",
        "outputId": "90bb8b8f-2688-4c4a-d316-45b06e68efbb"
      },
      "execution_count": 28,
      "outputs": [
        {
          "output_type": "stream",
          "name": "stdout",
          "text": [
            "Execution time on test set(CPU): 0.012599945068359375\n",
            "Accuracy on test set (CPU): 0.5275\n"
          ]
        }
      ]
    },
    {
      "cell_type": "markdown",
      "source": [
        "GPU Availability Check"
      ],
      "metadata": {
        "id": "xl0vTpZzL-TV"
      }
    },
    {
      "cell_type": "code",
      "source": [
        "# Check if GPU is available\n",
        "device = torch.device('cuda' if torch.cuda.is_available() else 'cpu')\n",
        "\n",
        "# Initialize model for GPU and move it to GPU\n",
        "model_gpu = MLP(input_size, hidden_size1, hidden_size2, num_classes).to(device)\n",
        "optimizer_gpu = optim.Adam(model_gpu.parameters(), lr=learning_rate)\n",
        "\n",
        "# Lists to store the loss values for plotting\n",
        "train_losses_gpu = []\n",
        "epoch_time_gpu = []\n",
        "\n",
        "# Assuming X_train_tensor and y_train_tensor are PyTorch tensors\n",
        "train_dataset = TensorDataset(X_train_tensor, y_train_tensor)\n",
        "train_loader = DataLoader(train_dataset, batch_size=batch_size, shuffle=True)\n"
      ],
      "metadata": {
        "id": "wHvnwccZMA1C"
      },
      "execution_count": 29,
      "outputs": []
    },
    {
      "cell_type": "markdown",
      "source": [
        "######################################\n",
        "####### Training  for GPU and Evaluation ########\n",
        "######################################"
      ],
      "metadata": {
        "id": "R-CqAsh9MJu_"
      }
    },
    {
      "cell_type": "code",
      "source": [
        "# Training loop for GPU\n",
        "start_time_gpu = time.time()\n",
        "for epoch in range(num_epochs):\n",
        "    model_gpu.train()\n",
        "    running_loss = 0.0\n",
        "    epoch_start_time = time.time()  # Start time for the current epoch\n",
        "    for inputs, labels in train_loader:\n",
        "        inputs, labels = inputs.to(device), labels.to(device)\n",
        "        optimizer_gpu.zero_grad()\n",
        "        outputs = model_gpu(inputs)\n",
        "        loss = criterion(outputs, labels)\n",
        "        loss.backward()\n",
        "        optimizer_gpu.step()\n",
        "        running_loss += loss.item()\n",
        "\n",
        "    # Calculate average loss for the epoch\n",
        "    avg_loss = running_loss / len(train_loader)\n",
        "    epoch_end_time = time.time()  # End time for the current epoch\n",
        "    epoch_time_gpu = epoch_end_time - epoch_start_time  # Elapsed time for the epoch\n",
        "    train_losses_gpu.append(avg_loss)\n",
        "    print(f\"GPU - Epoch [{epoch+1}/{num_epochs}], Loss: {avg_loss:.4f}, Epoch Time: {epoch_time_gpu:.2f} seconds\")\n",
        "\n",
        "end_time_gpu = time.time()\n",
        "execution_time_gpu = end_time_gpu - start_time_gpu\n",
        "print(f\"Total execution time on GPU training: {execution_time_gpu:.2f} seconds\")\n",
        "\n",
        "\n",
        "# Plot the loss function\n",
        "plt.figure()\n",
        "plt.plot(range(1, num_epochs+1), train_losses_gpu, label='Training Loss (GPU)')\n",
        "plt.xlabel('Epochs')\n",
        "plt.ylabel('Loss')\n",
        "plt.title('Training Loss')\n",
        "plt.legend()\n",
        "plt.show()"
      ],
      "metadata": {
        "colab": {
          "base_uri": "https://localhost:8080/",
          "height": 1000
        },
        "id": "R_fOFrIHMXVL",
        "outputId": "87e0d1ed-14fb-43f8-a6c5-df91dffc40f7"
      },
      "execution_count": 30,
      "outputs": [
        {
          "output_type": "stream",
          "name": "stdout",
          "text": [
            "GPU - Epoch [1/50], Loss: 1.7451, Epoch Time: 0.10 seconds\n",
            "GPU - Epoch [2/50], Loss: 1.2819, Epoch Time: 0.10 seconds\n",
            "GPU - Epoch [3/50], Loss: 1.2093, Epoch Time: 0.10 seconds\n",
            "GPU - Epoch [4/50], Loss: 1.1777, Epoch Time: 0.10 seconds\n",
            "GPU - Epoch [5/50], Loss: 1.1584, Epoch Time: 0.09 seconds\n",
            "GPU - Epoch [6/50], Loss: 1.1458, Epoch Time: 0.10 seconds\n",
            "GPU - Epoch [7/50], Loss: 1.1376, Epoch Time: 0.10 seconds\n",
            "GPU - Epoch [8/50], Loss: 1.1297, Epoch Time: 0.10 seconds\n",
            "GPU - Epoch [9/50], Loss: 1.1222, Epoch Time: 0.10 seconds\n",
            "GPU - Epoch [10/50], Loss: 1.1203, Epoch Time: 0.10 seconds\n",
            "GPU - Epoch [11/50], Loss: 1.1157, Epoch Time: 0.10 seconds\n",
            "GPU - Epoch [12/50], Loss: 1.1111, Epoch Time: 0.10 seconds\n",
            "GPU - Epoch [13/50], Loss: 1.1063, Epoch Time: 0.10 seconds\n",
            "GPU - Epoch [14/50], Loss: 1.1050, Epoch Time: 0.09 seconds\n",
            "GPU - Epoch [15/50], Loss: 1.1040, Epoch Time: 0.10 seconds\n",
            "GPU - Epoch [16/50], Loss: 1.1010, Epoch Time: 0.11 seconds\n",
            "GPU - Epoch [17/50], Loss: 1.0984, Epoch Time: 0.12 seconds\n",
            "GPU - Epoch [18/50], Loss: 1.1022, Epoch Time: 0.10 seconds\n",
            "GPU - Epoch [19/50], Loss: 1.0978, Epoch Time: 0.09 seconds\n",
            "GPU - Epoch [20/50], Loss: 1.0934, Epoch Time: 0.10 seconds\n",
            "GPU - Epoch [21/50], Loss: 1.0931, Epoch Time: 0.09 seconds\n",
            "GPU - Epoch [22/50], Loss: 1.0890, Epoch Time: 0.10 seconds\n",
            "GPU - Epoch [23/50], Loss: 1.0868, Epoch Time: 0.09 seconds\n",
            "GPU - Epoch [24/50], Loss: 1.0871, Epoch Time: 0.10 seconds\n",
            "GPU - Epoch [25/50], Loss: 1.0843, Epoch Time: 0.10 seconds\n",
            "GPU - Epoch [26/50], Loss: 1.0846, Epoch Time: 0.10 seconds\n",
            "GPU - Epoch [27/50], Loss: 1.0803, Epoch Time: 0.14 seconds\n",
            "GPU - Epoch [28/50], Loss: 1.0784, Epoch Time: 0.13 seconds\n",
            "GPU - Epoch [29/50], Loss: 1.0783, Epoch Time: 0.13 seconds\n",
            "GPU - Epoch [30/50], Loss: 1.0750, Epoch Time: 0.12 seconds\n",
            "GPU - Epoch [31/50], Loss: 1.0747, Epoch Time: 0.15 seconds\n",
            "GPU - Epoch [32/50], Loss: 1.0718, Epoch Time: 0.14 seconds\n",
            "GPU - Epoch [33/50], Loss: 1.0720, Epoch Time: 0.14 seconds\n",
            "GPU - Epoch [34/50], Loss: 1.0726, Epoch Time: 0.13 seconds\n",
            "GPU - Epoch [35/50], Loss: 1.0669, Epoch Time: 0.12 seconds\n",
            "GPU - Epoch [36/50], Loss: 1.0664, Epoch Time: 0.12 seconds\n",
            "GPU - Epoch [37/50], Loss: 1.0685, Epoch Time: 0.14 seconds\n",
            "GPU - Epoch [38/50], Loss: 1.0692, Epoch Time: 0.13 seconds\n",
            "GPU - Epoch [39/50], Loss: 1.0645, Epoch Time: 0.13 seconds\n",
            "GPU - Epoch [40/50], Loss: 1.0626, Epoch Time: 0.13 seconds\n",
            "GPU - Epoch [41/50], Loss: 1.0598, Epoch Time: 0.14 seconds\n",
            "GPU - Epoch [42/50], Loss: 1.0569, Epoch Time: 0.12 seconds\n",
            "GPU - Epoch [43/50], Loss: 1.0571, Epoch Time: 0.09 seconds\n",
            "GPU - Epoch [44/50], Loss: 1.0542, Epoch Time: 0.10 seconds\n",
            "GPU - Epoch [45/50], Loss: 1.0567, Epoch Time: 0.10 seconds\n",
            "GPU - Epoch [46/50], Loss: 1.0534, Epoch Time: 0.10 seconds\n",
            "GPU - Epoch [47/50], Loss: 1.0514, Epoch Time: 0.10 seconds\n",
            "GPU - Epoch [48/50], Loss: 1.0517, Epoch Time: 0.09 seconds\n",
            "GPU - Epoch [49/50], Loss: 1.0521, Epoch Time: 0.09 seconds\n",
            "GPU - Epoch [50/50], Loss: 1.0517, Epoch Time: 0.09 seconds\n",
            "Total execution time on GPU training: 5.44 seconds\n"
          ]
        },
        {
          "output_type": "display_data",
          "data": {
            "text/plain": [
              "<Figure size 640x480 with 1 Axes>"
            ],
            "image/png": "[encoded data removed]"
          },
          "metadata": {}
        }
      ]
    },
    {
      "cell_type": "markdown",
      "source": [
        "Evaluation on GPU and Accuracy on test dataset"
      ],
      "metadata": {
        "id": "EXdrWuBlMmsh"
      }
    },
    {
      "cell_type": "code",
      "source": [
        "# Evaluation on GPU\n",
        "time_gpu_test_start = time.time()\n",
        "correct = 0\n",
        "total = 0\n",
        "with torch.no_grad():\n",
        "    model_gpu.eval()\n",
        "    for inputs, labels in test_loader:\n",
        "        inputs, labels = inputs.to(device), labels.to(device)  # Move to GPU\n",
        "        outputs = model_gpu(inputs)\n",
        "        _, predicted = torch.max(outputs, 1)\n",
        "        total += labels.size(0)\n",
        "        correct += (predicted == labels).sum().item()\n",
        "\n",
        "accuracy = correct / total\n",
        "time_gpu_test_end = time.time()  # End time for testing on GPU\n",
        "execution_time_gpu_test = time_gpu_test_end - time_gpu_test_start\n",
        "print(f\"Execution time on test set(GPU): {execution_time_gpu_test}\")\n",
        "print(f\"Accuracy on test set (GPU): {accuracy:.4f}\")\n"
      ],
      "metadata": {
        "colab": {
          "base_uri": "https://localhost:8080/"
        },
        "id": "pSi_YCEtMwrd",
        "outputId": "97e73806-733f-458e-efb9-09deffbae602"
      },
      "execution_count": 31,
      "outputs": [
        {
          "output_type": "stream",
          "name": "stdout",
          "text": [
            "Execution time on test set(GPU): 0.014859914779663086\n",
            "Accuracy on test set (GPU): 0.5350\n"
          ]
        }
      ]
    },
    {
      "cell_type": "markdown",
      "source": [
        "Training Loss comparison between CPU and GPU Graph"
      ],
      "metadata": {
        "id": "UedKjomkPpae"
      }
    },
    {
      "cell_type": "code",
      "source": [
        "plt.figure(figsize=(10, 6))\n",
        "plt.plot(range(1, num_epochs+1), train_losses_cpu, label='Training Loss (CPU)')\n",
        "plt.plot(range(1, num_epochs+1), train_losses_gpu, label='Training Loss (GPU)')\n",
        "plt.xlabel('Epochs')\n",
        "plt.ylabel('Loss')\n",
        "plt.title('Training Loss Comparison(CPU vs GPU)')\n",
        "plt.legend()\n",
        "plt.grid(True)\n",
        "plt.show()"
      ],
      "metadata": {
        "colab": {
          "base_uri": "https://localhost:8080/",
          "height": 564
        },
        "id": "3Vj7s9WzTEFG",
        "outputId": "c3007094-b495-4233-e011-7cf612d5168b"
      },
      "execution_count": 32,
      "outputs": [
        {
          "output_type": "display_data",
          "data": {
            "text/plain": [
              "<Figure size 1000x600 with 1 Axes>"
            ],
            "image/png": "[encoded data removed]"
          },
          "metadata": {}
        }
      ]
    },
    {
      "cell_type": "markdown",
      "source": [
        "Execution Time comparison in CPU and GPU"
      ],
      "metadata": {
        "id": "YryzQoi2TzcT"
      }
    },
    {
      "cell_type": "code",
      "source": [
        "# Execution time taken in CPU and GPU\n",
        "execution_times_cpu = [execution_time_cpu, execution_time_cpu_test]\n",
        "execution_times_gpu = [execution_time_gpu, execution_time_gpu_test]\n",
        "\n",
        "# Adding Labels\n",
        "tasks = ['Training (CPU)', 'Testing (CPU)', 'Training (GPU)', 'Testing (GPU)']\n",
        "\n",
        "# Define values\n",
        "execution_times = execution_times_cpu + execution_times_gpu\n",
        "\n",
        "# Plot in a bar\n",
        "plt.figure(figsize=(10, 6))\n",
        "plt.bar(tasks, execution_times, color=['blue', 'blue', 'red', 'red'])\n",
        "plt.xlabel('Tasks')\n",
        "plt.ylabel('Execution Time (seconds)')\n",
        "plt.title('CPU vs GPU Execution Time Comparison (Training and Test)')\n",
        "plt.grid(axis='y')\n",
        "plt.show()"
      ],
      "metadata": {
        "colab": {
          "base_uri": "https://localhost:8080/",
          "height": 564
        },
        "id": "t02_wCdET4BG",
        "outputId": "28cc74e8-c6df-45c1-8cba-880acb41dfa5"
      },
      "execution_count": 33,
      "outputs": [
        {
          "output_type": "display_data",
          "data": {
            "text/plain": [
              "<Figure size 1000x600 with 1 Axes>"
            ],
            "image/png": "[encoded data removed]"
          },
          "metadata": {}
        }
      ]
    }
  ]
}